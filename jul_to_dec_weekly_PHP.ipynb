{
 "cells": [
  {
   "cell_type": "code",
   "execution_count": 17,
   "metadata": {},
   "outputs": [],
   "source": [
    "import pandas as pd\n",
    "import matplotlib.pyplot as plt\n",
    "import numpy as np\n",
    "\n",
    "# File to Load (Remember to change the path if needed.)\n",
    "bank_data_to_load = \"jul_to_dec_weekly_brius_core.csv\""
   ]
  },
  {
   "cell_type": "code",
   "execution_count": 18,
   "metadata": {},
   "outputs": [],
   "source": [
    "bank_data_df = pd.read_csv(bank_data_to_load)"
   ]
  },
  {
   "cell_type": "code",
   "execution_count": 19,
   "metadata": {
    "scrolled": true
   },
   "outputs": [
    {
     "data": {
      "text/html": [
       "<div>\n",
       "<style scoped>\n",
       "    .dataframe tbody tr th:only-of-type {\n",
       "        vertical-align: middle;\n",
       "    }\n",
       "\n",
       "    .dataframe tbody tr th {\n",
       "        vertical-align: top;\n",
       "    }\n",
       "\n",
       "    .dataframe thead th {\n",
       "        text-align: right;\n",
       "    }\n",
       "</style>\n",
       "<table border=\"1\" class=\"dataframe\">\n",
       "  <thead>\n",
       "    <tr style=\"text-align: right;\">\n",
       "      <th></th>\n",
       "      <th>payer_name</th>\n",
       "      <th>weekly</th>\n",
       "      <th>sum</th>\n",
       "    </tr>\n",
       "  </thead>\n",
       "  <tbody>\n",
       "    <tr>\n",
       "      <th>0</th>\n",
       "      <td>IEHP</td>\n",
       "      <td>6/28</td>\n",
       "      <td>13272.15</td>\n",
       "    </tr>\n",
       "    <tr>\n",
       "      <th>1</th>\n",
       "      <td>LA_Care</td>\n",
       "      <td>6/28</td>\n",
       "      <td>302769.67</td>\n",
       "    </tr>\n",
       "    <tr>\n",
       "      <th>2</th>\n",
       "      <td>Medicare</td>\n",
       "      <td>6/28</td>\n",
       "      <td>1262765.80</td>\n",
       "    </tr>\n",
       "    <tr>\n",
       "      <th>3</th>\n",
       "      <td>Blue_Cross</td>\n",
       "      <td>6/28</td>\n",
       "      <td>585.95</td>\n",
       "    </tr>\n",
       "    <tr>\n",
       "      <th>4</th>\n",
       "      <td>Molina</td>\n",
       "      <td>6/28</td>\n",
       "      <td>16397.65</td>\n",
       "    </tr>\n",
       "    <tr>\n",
       "      <th>...</th>\n",
       "      <td>...</td>\n",
       "      <td>...</td>\n",
       "      <td>...</td>\n",
       "    </tr>\n",
       "    <tr>\n",
       "      <th>317</th>\n",
       "      <td>UnitedHC</td>\n",
       "      <td>12/27</td>\n",
       "      <td>7821.00</td>\n",
       "    </tr>\n",
       "    <tr>\n",
       "      <th>318</th>\n",
       "      <td>Blue_Shield</td>\n",
       "      <td>12/27</td>\n",
       "      <td>455744.47</td>\n",
       "    </tr>\n",
       "    <tr>\n",
       "      <th>319</th>\n",
       "      <td>Cal_Optima</td>\n",
       "      <td>12/27</td>\n",
       "      <td>298167.21</td>\n",
       "    </tr>\n",
       "    <tr>\n",
       "      <th>320</th>\n",
       "      <td>Molina</td>\n",
       "      <td>12/27</td>\n",
       "      <td>71660.33</td>\n",
       "    </tr>\n",
       "    <tr>\n",
       "      <th>321</th>\n",
       "      <td>Health_Net</td>\n",
       "      <td>12/27</td>\n",
       "      <td>942847.10</td>\n",
       "    </tr>\n",
       "  </tbody>\n",
       "</table>\n",
       "<p>322 rows × 3 columns</p>\n",
       "</div>"
      ],
      "text/plain": [
       "      payer_name weekly         sum\n",
       "0           IEHP   6/28    13272.15\n",
       "1        LA_Care   6/28   302769.67\n",
       "2       Medicare   6/28  1262765.80\n",
       "3     Blue_Cross   6/28      585.95\n",
       "4         Molina   6/28    16397.65\n",
       "..           ...    ...         ...\n",
       "317     UnitedHC  12/27     7821.00\n",
       "318  Blue_Shield  12/27   455744.47\n",
       "319   Cal_Optima  12/27   298167.21\n",
       "320       Molina  12/27    71660.33\n",
       "321   Health_Net  12/27   942847.10\n",
       "\n",
       "[322 rows x 3 columns]"
      ]
     },
     "execution_count": 19,
     "metadata": {},
     "output_type": "execute_result"
    }
   ],
   "source": [
    "bank_data_df"
   ]
  },
  {
   "cell_type": "markdown",
   "metadata": {},
   "source": [
    "# PHP MediCal for Brius and Core"
   ]
  },
  {
   "cell_type": "code",
   "execution_count": 20,
   "metadata": {
    "scrolled": true
   },
   "outputs": [
    {
     "data": {
      "text/html": [
       "<div>\n",
       "<style scoped>\n",
       "    .dataframe tbody tr th:only-of-type {\n",
       "        vertical-align: middle;\n",
       "    }\n",
       "\n",
       "    .dataframe tbody tr th {\n",
       "        vertical-align: top;\n",
       "    }\n",
       "\n",
       "    .dataframe thead th {\n",
       "        text-align: right;\n",
       "    }\n",
       "</style>\n",
       "<table border=\"1\" class=\"dataframe\">\n",
       "  <thead>\n",
       "    <tr style=\"text-align: right;\">\n",
       "      <th></th>\n",
       "      <th>payer_name</th>\n",
       "      <th>weekly</th>\n",
       "      <th>sum</th>\n",
       "    </tr>\n",
       "  </thead>\n",
       "  <tbody>\n",
       "    <tr>\n",
       "      <th>17</th>\n",
       "      <td>PHP_Medical</td>\n",
       "      <td>7/5</td>\n",
       "      <td>826704.65</td>\n",
       "    </tr>\n",
       "    <tr>\n",
       "      <th>28</th>\n",
       "      <td>PHP_Medical</td>\n",
       "      <td>7/12</td>\n",
       "      <td>437915.79</td>\n",
       "    </tr>\n",
       "    <tr>\n",
       "      <th>39</th>\n",
       "      <td>PHP_Medical</td>\n",
       "      <td>7/19</td>\n",
       "      <td>842630.44</td>\n",
       "    </tr>\n",
       "    <tr>\n",
       "      <th>46</th>\n",
       "      <td>PHP_Medical</td>\n",
       "      <td>7/26</td>\n",
       "      <td>909808.64</td>\n",
       "    </tr>\n",
       "    <tr>\n",
       "      <th>66</th>\n",
       "      <td>PHP_Medical</td>\n",
       "      <td>8/2</td>\n",
       "      <td>760838.41</td>\n",
       "    </tr>\n",
       "    <tr>\n",
       "      <th>70</th>\n",
       "      <td>PHP_Medical</td>\n",
       "      <td>8/9</td>\n",
       "      <td>679165.46</td>\n",
       "    </tr>\n",
       "    <tr>\n",
       "      <th>87</th>\n",
       "      <td>PHP_Medical</td>\n",
       "      <td>8/16</td>\n",
       "      <td>600232.64</td>\n",
       "    </tr>\n",
       "    <tr>\n",
       "      <th>96</th>\n",
       "      <td>PHP_Medical</td>\n",
       "      <td>8/23</td>\n",
       "      <td>624911.18</td>\n",
       "    </tr>\n",
       "    <tr>\n",
       "      <th>112</th>\n",
       "      <td>PHP_Medical</td>\n",
       "      <td>8/30</td>\n",
       "      <td>590473.16</td>\n",
       "    </tr>\n",
       "    <tr>\n",
       "      <th>123</th>\n",
       "      <td>PHP_Medical</td>\n",
       "      <td>9/6</td>\n",
       "      <td>490237.80</td>\n",
       "    </tr>\n",
       "    <tr>\n",
       "      <th>140</th>\n",
       "      <td>PHP_Medical</td>\n",
       "      <td>9/13</td>\n",
       "      <td>388851.13</td>\n",
       "    </tr>\n",
       "    <tr>\n",
       "      <th>146</th>\n",
       "      <td>PHP_Medical</td>\n",
       "      <td>9/20</td>\n",
       "      <td>690373.67</td>\n",
       "    </tr>\n",
       "    <tr>\n",
       "      <th>153</th>\n",
       "      <td>PHP_Medical</td>\n",
       "      <td>9/27</td>\n",
       "      <td>1005955.20</td>\n",
       "    </tr>\n",
       "    <tr>\n",
       "      <th>167</th>\n",
       "      <td>PHP_Medical</td>\n",
       "      <td>10/4</td>\n",
       "      <td>551443.11</td>\n",
       "    </tr>\n",
       "    <tr>\n",
       "      <th>183</th>\n",
       "      <td>PHP_Medical</td>\n",
       "      <td>10/11</td>\n",
       "      <td>314456.91</td>\n",
       "    </tr>\n",
       "    <tr>\n",
       "      <th>198</th>\n",
       "      <td>PHP_Medical</td>\n",
       "      <td>10/18</td>\n",
       "      <td>758233.67</td>\n",
       "    </tr>\n",
       "    <tr>\n",
       "      <th>206</th>\n",
       "      <td>PHP_Medical</td>\n",
       "      <td>10/25</td>\n",
       "      <td>1215596.80</td>\n",
       "    </tr>\n",
       "    <tr>\n",
       "      <th>222</th>\n",
       "      <td>PHP_Medical</td>\n",
       "      <td>11/1</td>\n",
       "      <td>835873.67</td>\n",
       "    </tr>\n",
       "    <tr>\n",
       "      <th>228</th>\n",
       "      <td>PHP_Medical</td>\n",
       "      <td>11/8</td>\n",
       "      <td>689896.82</td>\n",
       "    </tr>\n",
       "    <tr>\n",
       "      <th>245</th>\n",
       "      <td>PHP_Medical</td>\n",
       "      <td>11/15</td>\n",
       "      <td>399645.15</td>\n",
       "    </tr>\n",
       "    <tr>\n",
       "      <th>253</th>\n",
       "      <td>PHP_Medical</td>\n",
       "      <td>11/22</td>\n",
       "      <td>891657.80</td>\n",
       "    </tr>\n",
       "    <tr>\n",
       "      <th>269</th>\n",
       "      <td>PHP_Medical</td>\n",
       "      <td>11/29</td>\n",
       "      <td>710268.79</td>\n",
       "    </tr>\n",
       "    <tr>\n",
       "      <th>278</th>\n",
       "      <td>PHP_Medical</td>\n",
       "      <td>12/6</td>\n",
       "      <td>622496.18</td>\n",
       "    </tr>\n",
       "    <tr>\n",
       "      <th>286</th>\n",
       "      <td>PHP_Medical</td>\n",
       "      <td>12/13</td>\n",
       "      <td>647880.05</td>\n",
       "    </tr>\n",
       "    <tr>\n",
       "      <th>308</th>\n",
       "      <td>PHP_Medical</td>\n",
       "      <td>12/20</td>\n",
       "      <td>683771.97</td>\n",
       "    </tr>\n",
       "    <tr>\n",
       "      <th>316</th>\n",
       "      <td>PHP_Medical</td>\n",
       "      <td>12/27</td>\n",
       "      <td>539831.28</td>\n",
       "    </tr>\n",
       "  </tbody>\n",
       "</table>\n",
       "</div>"
      ],
      "text/plain": [
       "      payer_name weekly         sum\n",
       "17   PHP_Medical    7/5   826704.65\n",
       "28   PHP_Medical   7/12   437915.79\n",
       "39   PHP_Medical   7/19   842630.44\n",
       "46   PHP_Medical   7/26   909808.64\n",
       "66   PHP_Medical    8/2   760838.41\n",
       "70   PHP_Medical    8/9   679165.46\n",
       "87   PHP_Medical   8/16   600232.64\n",
       "96   PHP_Medical   8/23   624911.18\n",
       "112  PHP_Medical   8/30   590473.16\n",
       "123  PHP_Medical    9/6   490237.80\n",
       "140  PHP_Medical   9/13   388851.13\n",
       "146  PHP_Medical   9/20   690373.67\n",
       "153  PHP_Medical   9/27  1005955.20\n",
       "167  PHP_Medical   10/4   551443.11\n",
       "183  PHP_Medical  10/11   314456.91\n",
       "198  PHP_Medical  10/18   758233.67\n",
       "206  PHP_Medical  10/25  1215596.80\n",
       "222  PHP_Medical   11/1   835873.67\n",
       "228  PHP_Medical   11/8   689896.82\n",
       "245  PHP_Medical  11/15   399645.15\n",
       "253  PHP_Medical  11/22   891657.80\n",
       "269  PHP_Medical  11/29   710268.79\n",
       "278  PHP_Medical   12/6   622496.18\n",
       "286  PHP_Medical  12/13   647880.05\n",
       "308  PHP_Medical  12/20   683771.97\n",
       "316  PHP_Medical  12/27   539831.28"
      ]
     },
     "execution_count": 20,
     "metadata": {},
     "output_type": "execute_result"
    }
   ],
   "source": [
    "php_df = bank_data_df.loc[(bank_data_df['payer_name']=='PHP_Medical')]\n",
    "php_df"
   ]
  },
  {
   "cell_type": "markdown",
   "metadata": {},
   "source": [
    "# PHP MediCal - First Week of Each month (Jul - Dec 2021)"
   ]
  },
  {
   "cell_type": "code",
   "execution_count": 21,
   "metadata": {},
   "outputs": [
    {
     "data": {
      "text/html": [
       "<div>\n",
       "<style scoped>\n",
       "    .dataframe tbody tr th:only-of-type {\n",
       "        vertical-align: middle;\n",
       "    }\n",
       "\n",
       "    .dataframe tbody tr th {\n",
       "        vertical-align: top;\n",
       "    }\n",
       "\n",
       "    .dataframe thead th {\n",
       "        text-align: right;\n",
       "    }\n",
       "</style>\n",
       "<table border=\"1\" class=\"dataframe\">\n",
       "  <thead>\n",
       "    <tr style=\"text-align: right;\">\n",
       "      <th></th>\n",
       "      <th>payer_name</th>\n",
       "      <th>weekly</th>\n",
       "      <th>sum</th>\n",
       "    </tr>\n",
       "  </thead>\n",
       "  <tbody>\n",
       "    <tr>\n",
       "      <th>17</th>\n",
       "      <td>PHP_Medical</td>\n",
       "      <td>7/5</td>\n",
       "      <td>826704.65</td>\n",
       "    </tr>\n",
       "    <tr>\n",
       "      <th>70</th>\n",
       "      <td>PHP_Medical</td>\n",
       "      <td>8/9</td>\n",
       "      <td>679165.46</td>\n",
       "    </tr>\n",
       "    <tr>\n",
       "      <th>123</th>\n",
       "      <td>PHP_Medical</td>\n",
       "      <td>9/6</td>\n",
       "      <td>490237.80</td>\n",
       "    </tr>\n",
       "    <tr>\n",
       "      <th>167</th>\n",
       "      <td>PHP_Medical</td>\n",
       "      <td>10/4</td>\n",
       "      <td>551443.11</td>\n",
       "    </tr>\n",
       "    <tr>\n",
       "      <th>228</th>\n",
       "      <td>PHP_Medical</td>\n",
       "      <td>11/8</td>\n",
       "      <td>689896.82</td>\n",
       "    </tr>\n",
       "    <tr>\n",
       "      <th>278</th>\n",
       "      <td>PHP_Medical</td>\n",
       "      <td>12/6</td>\n",
       "      <td>622496.18</td>\n",
       "    </tr>\n",
       "  </tbody>\n",
       "</table>\n",
       "</div>"
      ],
      "text/plain": [
       "      payer_name weekly        sum\n",
       "17   PHP_Medical    7/5  826704.65\n",
       "70   PHP_Medical    8/9  679165.46\n",
       "123  PHP_Medical    9/6  490237.80\n",
       "167  PHP_Medical   10/4  551443.11\n",
       "228  PHP_Medical   11/8  689896.82\n",
       "278  PHP_Medical   12/6  622496.18"
      ]
     },
     "execution_count": 21,
     "metadata": {},
     "output_type": "execute_result"
    }
   ],
   "source": [
    "php_first_week_df = php_df.loc[(php_df['weekly']=='7/5') | (php_df['weekly']=='8/9') \n",
    "                            | (php_df['weekly']=='9/6') | (php_df['weekly']=='10/4')\n",
    "                               | (php_df['weekly']=='11/8') | (php_df['weekly']=='12/6')]\n",
    "php_first_week_df"
   ]
  },
  {
   "cell_type": "code",
   "execution_count": 22,
   "metadata": {},
   "outputs": [],
   "source": [
    "x_axis = php_first_week_df[\"weekly\"]\n",
    "y_axis = php_first_week_df['sum']"
   ]
  },
  {
   "cell_type": "code",
   "execution_count": 59,
   "metadata": {},
   "outputs": [
    {
     "data": {
      "text/plain": [
       "<matplotlib.legend.Legend at 0x1cd170b88c8>"
      ]
     },
     "execution_count": 59,
     "metadata": {},
     "output_type": "execute_result"
    },
    {
     "data": {
      "image/png": "[encoded data removed]",
      "text/plain": [
       "<Figure size 432x288 with 1 Axes>"
      ]
     },
     "metadata": {
      "needs_background": "light"
     },
     "output_type": "display_data"
    }
   ],
   "source": [
    "# Create the plot.\n",
    "plt.plot(x_axis, y_axis, marker=\"*\", color=\"blue\", linewidth=2, label='PHP MediCal')\n",
    "# Create labels for the x and y axes.\n",
    "plt.xlabel(\"First Week of Each Month\")\n",
    "plt.ylabel(\"$ Collected\")\n",
    "# Set the y limit between 0 and 45.\n",
    "plt.ylim(0,1400000)\n",
    "# Create a title.\n",
    "plt.title(\"PHP MediCal $ - First Week of Each Month\")\n",
    "# Add a grid.\n",
    "plt.grid()\n",
    "# Add the legend.\n",
    "plt.legend()"
   ]
  },
  {
   "cell_type": "code",
   "execution_count": 24,
   "metadata": {},
   "outputs": [
    {
     "name": "stdout",
     "output_type": "stream",
     "text": [
      "y = -26504.08x + 895112.81\n",
      "The p-value is: 0.406\n"
     ]
    }
   ],
   "source": [
    "# Import linear regression from the SciPy stats module.\n",
    "from scipy.stats import linregress\n",
    "x_axis = [7,8,9,10,11,12]\n",
    "y_axis = php_first_week_df['sum']\n",
    "# Perform linear regression.\n",
    "(slope, intercept, r_value, p_value, std_err) = linregress(x_axis, y_axis)\n",
    "# Get the equation of the line.\n",
    "line_eq = \"y = \" + str(round(slope,2)) + \"x + \" + str(round(intercept,2))\n",
    "print(line_eq)\n",
    "print(f\"The p-value is: {p_value:.3f}\")"
   ]
  },
  {
   "cell_type": "code",
   "execution_count": 25,
   "metadata": {},
   "outputs": [],
   "source": [
    "# Calculate the regression line \"y values\" from the slope and intercept.\n",
    "regress_values = [(x * slope + intercept) for x in x_axis]"
   ]
  },
  {
   "cell_type": "code",
   "execution_count": 58,
   "metadata": {},
   "outputs": [
    {
     "data": {
      "image/png": "[encoded data removed]",
      "text/plain": [
       "<Figure size 432x288 with 1 Axes>"
      ]
     },
     "metadata": {
      "needs_background": "light"
     },
     "output_type": "display_data"
    }
   ],
   "source": [
    "# Create a scatter plot of the x and y values.\n",
    "plt.scatter(x_axis, y_axis)\n",
    "# Plot the regression line with the x-values and the y coordinates based on the intercept and slope.\n",
    "plt.plot(x_axis,regress_values,\"r\")\n",
    "# Annotate the text for the line equation and add its coordinates.\n",
    "plt.annotate(line_eq, (10,40), fontsize=15, color=\"red\")\n",
    "plt.ylim(0,1400000)\n",
    "plt.xlabel('July through December')\n",
    "plt.ylabel('$ collected')\n",
    "plt.title('PHP MediCal $amount by Month (only first week)')\n",
    "plt.show()"
   ]
  },
  {
   "cell_type": "markdown",
   "metadata": {},
   "source": [
    "# PHP MediCal - Second Week of Each month (Jul - Dec 2021)"
   ]
  },
  {
   "cell_type": "code",
   "execution_count": 27,
   "metadata": {},
   "outputs": [
    {
     "data": {
      "text/html": [
       "<div>\n",
       "<style scoped>\n",
       "    .dataframe tbody tr th:only-of-type {\n",
       "        vertical-align: middle;\n",
       "    }\n",
       "\n",
       "    .dataframe tbody tr th {\n",
       "        vertical-align: top;\n",
       "    }\n",
       "\n",
       "    .dataframe thead th {\n",
       "        text-align: right;\n",
       "    }\n",
       "</style>\n",
       "<table border=\"1\" class=\"dataframe\">\n",
       "  <thead>\n",
       "    <tr style=\"text-align: right;\">\n",
       "      <th></th>\n",
       "      <th>payer_name</th>\n",
       "      <th>weekly</th>\n",
       "      <th>sum</th>\n",
       "    </tr>\n",
       "  </thead>\n",
       "  <tbody>\n",
       "    <tr>\n",
       "      <th>28</th>\n",
       "      <td>PHP_Medical</td>\n",
       "      <td>7/12</td>\n",
       "      <td>437915.79</td>\n",
       "    </tr>\n",
       "    <tr>\n",
       "      <th>87</th>\n",
       "      <td>PHP_Medical</td>\n",
       "      <td>8/16</td>\n",
       "      <td>600232.64</td>\n",
       "    </tr>\n",
       "    <tr>\n",
       "      <th>140</th>\n",
       "      <td>PHP_Medical</td>\n",
       "      <td>9/13</td>\n",
       "      <td>388851.13</td>\n",
       "    </tr>\n",
       "    <tr>\n",
       "      <th>183</th>\n",
       "      <td>PHP_Medical</td>\n",
       "      <td>10/11</td>\n",
       "      <td>314456.91</td>\n",
       "    </tr>\n",
       "    <tr>\n",
       "      <th>245</th>\n",
       "      <td>PHP_Medical</td>\n",
       "      <td>11/15</td>\n",
       "      <td>399645.15</td>\n",
       "    </tr>\n",
       "    <tr>\n",
       "      <th>286</th>\n",
       "      <td>PHP_Medical</td>\n",
       "      <td>12/13</td>\n",
       "      <td>647880.05</td>\n",
       "    </tr>\n",
       "  </tbody>\n",
       "</table>\n",
       "</div>"
      ],
      "text/plain": [
       "      payer_name weekly        sum\n",
       "28   PHP_Medical   7/12  437915.79\n",
       "87   PHP_Medical   8/16  600232.64\n",
       "140  PHP_Medical   9/13  388851.13\n",
       "183  PHP_Medical  10/11  314456.91\n",
       "245  PHP_Medical  11/15  399645.15\n",
       "286  PHP_Medical  12/13  647880.05"
      ]
     },
     "execution_count": 27,
     "metadata": {},
     "output_type": "execute_result"
    }
   ],
   "source": [
    "php_second_week_df = php_df.loc[(php_df['weekly']=='7/12') | (php_df['weekly']=='8/16') \n",
    "                            | (php_df['weekly']=='9/13') | (php_df['weekly']=='10/11')\n",
    "                               | (php_df['weekly']=='11/15') | (php_df['weekly']=='12/13')]\n",
    "php_second_week_df"
   ]
  },
  {
   "cell_type": "code",
   "execution_count": 33,
   "metadata": {},
   "outputs": [],
   "source": [
    "x_axis_2 = php_second_week_df[\"weekly\"]\n",
    "y_axis_2 = php_second_week_df['sum']"
   ]
  },
  {
   "cell_type": "code",
   "execution_count": 55,
   "metadata": {},
   "outputs": [
    {
     "data": {
      "text/plain": [
       "<matplotlib.legend.Legend at 0x1cd16efbc48>"
      ]
     },
     "execution_count": 55,
     "metadata": {},
     "output_type": "execute_result"
    },
    {
     "data": {
      "image/png": "[encoded data removed]",
      "text/plain": [
       "<Figure size 432x288 with 1 Axes>"
      ]
     },
     "metadata": {
      "needs_background": "light"
     },
     "output_type": "display_data"
    }
   ],
   "source": [
    "# Create the plot.\n",
    "plt.plot(x_axis_2, y_axis_2, marker=\"*\", color=\"blue\", linewidth=2, label='PHP MediCal')\n",
    "# Create labels for the x and y axes.\n",
    "plt.xlabel(\"Second Week of Each Month\")\n",
    "plt.ylabel(\"$ Collected\")\n",
    "# Set the y limit between 0 and 45.\n",
    "plt.ylim(0,1400000)\n",
    "# Create a title.\n",
    "plt.title(\"PHP MediCal $ - Second Week of Each Month\")\n",
    "# Add a grid.\n",
    "plt.grid()\n",
    "# Add the legend.\n",
    "plt.legend()"
   ]
  },
  {
   "cell_type": "code",
   "execution_count": 36,
   "metadata": {},
   "outputs": [
    {
     "name": "stdout",
     "output_type": "stream",
     "text": [
      "y = 10676.13x + 363407.03\n",
      "The p-value is: 0.772\n"
     ]
    }
   ],
   "source": [
    "# Import linear regression from the SciPy stats module.\n",
    "from scipy.stats import linregress\n",
    "x_axis_2 = [7,8,9,10,11,12]\n",
    "y_axis_2 = php_second_week_df['sum']\n",
    "# Perform linear regression.\n",
    "(slope, intercept, r_value, p_value, std_err) = linregress(x_axis_2, y_axis_2)\n",
    "# Get the equation of the line.\n",
    "line_eq = \"y = \" + str(round(slope,2)) + \"x + \" + str(round(intercept,2))\n",
    "print(line_eq)\n",
    "print(f\"The p-value is: {p_value:.3f}\")"
   ]
  },
  {
   "cell_type": "code",
   "execution_count": 37,
   "metadata": {},
   "outputs": [],
   "source": [
    "# Calculate the regression line \"y values\" from the slope and intercept.\n",
    "regress_values = [(x * slope + intercept) for x in x_axis_2]"
   ]
  },
  {
   "cell_type": "code",
   "execution_count": 38,
   "metadata": {},
   "outputs": [
    {
     "data": {
      "image/png": "[encoded data removed]",
      "text/plain": [
       "<Figure size 432x288 with 1 Axes>"
      ]
     },
     "metadata": {
      "needs_background": "light"
     },
     "output_type": "display_data"
    }
   ],
   "source": [
    "# Create a scatter plot of the x and y values.\n",
    "plt.scatter(x_axis_2, y_axis_2)\n",
    "# Plot the regression line with the x-values and the y coordinates based on the intercept and slope.\n",
    "plt.plot(x_axis_2,regress_values,\"r\")\n",
    "# Annotate the text for the line equation and add its coordinates.\n",
    "plt.annotate(line_eq, (10,40), fontsize=15, color=\"red\")\n",
    "plt.ylim(0,1000000)\n",
    "plt.xlabel('July through December')\n",
    "plt.ylabel('$ collected')\n",
    "plt.title('PHP MediCal $ - Second Week)')\n",
    "plt.show()"
   ]
  },
  {
   "cell_type": "markdown",
   "metadata": {},
   "source": [
    "# PHP MediCal - Third Week of Each month (Jul - Dec 2021)"
   ]
  },
  {
   "cell_type": "code",
   "execution_count": 50,
   "metadata": {},
   "outputs": [
    {
     "data": {
      "text/html": [
       "<div>\n",
       "<style scoped>\n",
       "    .dataframe tbody tr th:only-of-type {\n",
       "        vertical-align: middle;\n",
       "    }\n",
       "\n",
       "    .dataframe tbody tr th {\n",
       "        vertical-align: top;\n",
       "    }\n",
       "\n",
       "    .dataframe thead th {\n",
       "        text-align: right;\n",
       "    }\n",
       "</style>\n",
       "<table border=\"1\" class=\"dataframe\">\n",
       "  <thead>\n",
       "    <tr style=\"text-align: right;\">\n",
       "      <th></th>\n",
       "      <th>payer_name</th>\n",
       "      <th>weekly</th>\n",
       "      <th>sum</th>\n",
       "    </tr>\n",
       "  </thead>\n",
       "  <tbody>\n",
       "    <tr>\n",
       "      <th>39</th>\n",
       "      <td>PHP_Medical</td>\n",
       "      <td>7/19</td>\n",
       "      <td>842630.44</td>\n",
       "    </tr>\n",
       "    <tr>\n",
       "      <th>96</th>\n",
       "      <td>PHP_Medical</td>\n",
       "      <td>8/23</td>\n",
       "      <td>624911.18</td>\n",
       "    </tr>\n",
       "    <tr>\n",
       "      <th>146</th>\n",
       "      <td>PHP_Medical</td>\n",
       "      <td>9/20</td>\n",
       "      <td>690373.67</td>\n",
       "    </tr>\n",
       "    <tr>\n",
       "      <th>198</th>\n",
       "      <td>PHP_Medical</td>\n",
       "      <td>10/18</td>\n",
       "      <td>758233.67</td>\n",
       "    </tr>\n",
       "    <tr>\n",
       "      <th>253</th>\n",
       "      <td>PHP_Medical</td>\n",
       "      <td>11/22</td>\n",
       "      <td>891657.80</td>\n",
       "    </tr>\n",
       "    <tr>\n",
       "      <th>308</th>\n",
       "      <td>PHP_Medical</td>\n",
       "      <td>12/20</td>\n",
       "      <td>683771.97</td>\n",
       "    </tr>\n",
       "  </tbody>\n",
       "</table>\n",
       "</div>"
      ],
      "text/plain": [
       "      payer_name weekly        sum\n",
       "39   PHP_Medical   7/19  842630.44\n",
       "96   PHP_Medical   8/23  624911.18\n",
       "146  PHP_Medical   9/20  690373.67\n",
       "198  PHP_Medical  10/18  758233.67\n",
       "253  PHP_Medical  11/22  891657.80\n",
       "308  PHP_Medical  12/20  683771.97"
      ]
     },
     "execution_count": 50,
     "metadata": {},
     "output_type": "execute_result"
    }
   ],
   "source": [
    "php_third_week_df = php_df.loc[(php_df['weekly']=='7/19') | (php_df['weekly']=='8/23') \n",
    "                            | (php_df['weekly']=='9/20') | (php_df['weekly']=='10/18')\n",
    "                               | (php_df['weekly']=='11/22') | (php_df['weekly']=='12/20')]\n",
    "php_third_week_df"
   ]
  },
  {
   "cell_type": "code",
   "execution_count": 51,
   "metadata": {},
   "outputs": [],
   "source": [
    "x_axis_3 = php_third_week_df[\"weekly\"]\n",
    "y_axis_3 = php_third_week_df['sum']"
   ]
  },
  {
   "cell_type": "code",
   "execution_count": 60,
   "metadata": {},
   "outputs": [
    {
     "data": {
      "text/plain": [
       "<matplotlib.legend.Legend at 0x1cd17113e08>"
      ]
     },
     "execution_count": 60,
     "metadata": {},
     "output_type": "execute_result"
    },
    {
     "data": {
      "image/png": "[encoded data removed]",
      "text/plain": [
       "<Figure size 432x288 with 1 Axes>"
      ]
     },
     "metadata": {
      "needs_background": "light"
     },
     "output_type": "display_data"
    }
   ],
   "source": [
    "# Create the plot.\n",
    "plt.plot(x_axis_3, y_axis_3, marker=\"*\", color=\"blue\", linewidth=2, label='PHP MediCal')\n",
    "# Create labels for the x and y axes.\n",
    "plt.xlabel(\"Third Week of Each Month\")\n",
    "plt.ylabel(\"$ Collected\")\n",
    "# Set the y limit between 0 and 45.\n",
    "plt.ylim(0,1400000)\n",
    "# Create a title.\n",
    "plt.title(\"PHP MediCal $ - Third Week of Each Month\")\n",
    "# Add a grid.\n",
    "plt.grid()\n",
    "# Add the legend.\n",
    "plt.legend()"
   ]
  },
  {
   "cell_type": "code",
   "execution_count": 61,
   "metadata": {},
   "outputs": [
    {
     "name": "stdout",
     "output_type": "stream",
     "text": [
      "y = 2108.79x + 728562.99\n",
      "The p-value is: 0.942\n"
     ]
    }
   ],
   "source": [
    "# Import linear regression from the SciPy stats module.\n",
    "from scipy.stats import linregress\n",
    "x_axis_3 = [7,8,9,10,11,12]\n",
    "y_axis_3 = php_third_week_df['sum']\n",
    "# Perform linear regression.\n",
    "(slope, intercept, r_value, p_value, std_err) = linregress(x_axis_3, y_axis_3)\n",
    "# Get the equation of the line.\n",
    "line_eq = \"y = \" + str(round(slope,2)) + \"x + \" + str(round(intercept,2))\n",
    "print(line_eq)\n",
    "print(f\"The p-value is: {p_value:.3f}\")"
   ]
  },
  {
   "cell_type": "code",
   "execution_count": 62,
   "metadata": {},
   "outputs": [],
   "source": [
    "# Calculate the regression line \"y values\" from the slope and intercept.\n",
    "regress_values = [(x * slope + intercept) for x in x_axis_3]"
   ]
  },
  {
   "cell_type": "code",
   "execution_count": 63,
   "metadata": {},
   "outputs": [
    {
     "data": {
      "image/png": "[encoded data removed]",
      "text/plain": [
       "<Figure size 432x288 with 1 Axes>"
      ]
     },
     "metadata": {
      "needs_background": "light"
     },
     "output_type": "display_data"
    }
   ],
   "source": [
    "# Create a scatter plot of the x and y values.\n",
    "plt.scatter(x_axis_3, y_axis_3)\n",
    "# Plot the regression line with the x-values and the y coordinates based on the intercept and slope.\n",
    "plt.plot(x_axis_3,regress_values,\"r\")\n",
    "# Annotate the text for the line equation and add its coordinates.\n",
    "plt.annotate(line_eq, (10,40), fontsize=15, color=\"red\")\n",
    "plt.ylim(0,1400000)\n",
    "plt.xlabel('July through December')\n",
    "plt.ylabel('$ collected')\n",
    "plt.title('PHP MediCal $ - Third Week of Each Month)')\n",
    "plt.show()"
   ]
  },
  {
   "cell_type": "markdown",
   "metadata": {},
   "source": [
    "# PHP MediCal - Fourth Week of Each month (Jul - Dec 2021)"
   ]
  },
  {
   "cell_type": "code",
   "execution_count": 41,
   "metadata": {},
   "outputs": [
    {
     "data": {
      "text/html": [
       "<div>\n",
       "<style scoped>\n",
       "    .dataframe tbody tr th:only-of-type {\n",
       "        vertical-align: middle;\n",
       "    }\n",
       "\n",
       "    .dataframe tbody tr th {\n",
       "        vertical-align: top;\n",
       "    }\n",
       "\n",
       "    .dataframe thead th {\n",
       "        text-align: right;\n",
       "    }\n",
       "</style>\n",
       "<table border=\"1\" class=\"dataframe\">\n",
       "  <thead>\n",
       "    <tr style=\"text-align: right;\">\n",
       "      <th></th>\n",
       "      <th>payer_name</th>\n",
       "      <th>weekly</th>\n",
       "      <th>sum</th>\n",
       "    </tr>\n",
       "  </thead>\n",
       "  <tbody>\n",
       "    <tr>\n",
       "      <th>46</th>\n",
       "      <td>PHP_Medical</td>\n",
       "      <td>7/26</td>\n",
       "      <td>909808.64</td>\n",
       "    </tr>\n",
       "    <tr>\n",
       "      <th>112</th>\n",
       "      <td>PHP_Medical</td>\n",
       "      <td>8/30</td>\n",
       "      <td>590473.16</td>\n",
       "    </tr>\n",
       "    <tr>\n",
       "      <th>153</th>\n",
       "      <td>PHP_Medical</td>\n",
       "      <td>9/27</td>\n",
       "      <td>1005955.20</td>\n",
       "    </tr>\n",
       "    <tr>\n",
       "      <th>206</th>\n",
       "      <td>PHP_Medical</td>\n",
       "      <td>10/25</td>\n",
       "      <td>1215596.80</td>\n",
       "    </tr>\n",
       "    <tr>\n",
       "      <th>269</th>\n",
       "      <td>PHP_Medical</td>\n",
       "      <td>11/29</td>\n",
       "      <td>710268.79</td>\n",
       "    </tr>\n",
       "    <tr>\n",
       "      <th>316</th>\n",
       "      <td>PHP_Medical</td>\n",
       "      <td>12/27</td>\n",
       "      <td>539831.28</td>\n",
       "    </tr>\n",
       "  </tbody>\n",
       "</table>\n",
       "</div>"
      ],
      "text/plain": [
       "      payer_name weekly         sum\n",
       "46   PHP_Medical   7/26   909808.64\n",
       "112  PHP_Medical   8/30   590473.16\n",
       "153  PHP_Medical   9/27  1005955.20\n",
       "206  PHP_Medical  10/25  1215596.80\n",
       "269  PHP_Medical  11/29   710268.79\n",
       "316  PHP_Medical  12/27   539831.28"
      ]
     },
     "execution_count": 41,
     "metadata": {},
     "output_type": "execute_result"
    }
   ],
   "source": [
    "php_fourth_week_df = php_df.loc[(php_df['weekly']=='7/26') | (php_df['weekly']=='8/30') \n",
    "                            | (php_df['weekly']=='9/27') | (php_df['weekly']=='10/25')\n",
    "                               | (php_df['weekly']=='11/29') | (php_df['weekly']=='12/27')]\n",
    "php_fourth_week_df"
   ]
  },
  {
   "cell_type": "code",
   "execution_count": 42,
   "metadata": {},
   "outputs": [],
   "source": [
    "x_axis_4 = php_fourth_week_df[\"weekly\"]\n",
    "y_axis_4 = php_fourth_week_df['sum']"
   ]
  },
  {
   "cell_type": "code",
   "execution_count": 45,
   "metadata": {},
   "outputs": [
    {
     "data": {
      "text/plain": [
       "<matplotlib.legend.Legend at 0x1cd16bdffc8>"
      ]
     },
     "execution_count": 45,
     "metadata": {},
     "output_type": "execute_result"
    },
    {
     "data": {
      "image/png": "[encoded data removed]",
      "text/plain": [
       "<Figure size 432x288 with 1 Axes>"
      ]
     },
     "metadata": {
      "needs_background": "light"
     },
     "output_type": "display_data"
    }
   ],
   "source": [
    "# Create the plot.\n",
    "plt.plot(x_axis_4, y_axis_4, marker=\"*\", color=\"blue\", linewidth=2, label='PHP MediCal')\n",
    "# Create labels for the x and y axes.\n",
    "plt.xlabel(\"Fourth Week of Each Month\")\n",
    "plt.ylabel(\"$ Collected\")\n",
    "# Set the y limit between 0 and 45.\n",
    "plt.ylim(0,1600000)\n",
    "# Create a title.\n",
    "plt.title(\"PHP MediCal $ - Fourth Week of Each Month\")\n",
    "# Add a grid.\n",
    "plt.grid()\n",
    "# Add the legend.\n",
    "plt.legend()"
   ]
  },
  {
   "cell_type": "code",
   "execution_count": 46,
   "metadata": {},
   "outputs": [
    {
     "name": "stdout",
     "output_type": "stream",
     "text": [
      "y = -36595.95x + 1176317.19\n",
      "The p-value is: 0.616\n"
     ]
    }
   ],
   "source": [
    "# Import linear regression from the SciPy stats module.\n",
    "from scipy.stats import linregress\n",
    "x_axis_4 = [7,8,9,10,11,12]\n",
    "y_axis_4 = php_fourth_week_df['sum']\n",
    "# Perform linear regression.\n",
    "(slope, intercept, r_value, p_value, std_err) = linregress(x_axis_4, y_axis_4)\n",
    "# Get the equation of the line.\n",
    "line_eq = \"y = \" + str(round(slope,2)) + \"x + \" + str(round(intercept,2))\n",
    "print(line_eq)\n",
    "print(f\"The p-value is: {p_value:.3f}\")"
   ]
  },
  {
   "cell_type": "code",
   "execution_count": 47,
   "metadata": {},
   "outputs": [],
   "source": [
    "# Calculate the regression line \"y values\" from the slope and intercept.\n",
    "regress_values = [(x * slope + intercept) for x in x_axis_4]"
   ]
  },
  {
   "cell_type": "code",
   "execution_count": 49,
   "metadata": {},
   "outputs": [
    {
     "data": {
      "image/png": "[encoded data removed]",
      "text/plain": [
       "<Figure size 432x288 with 1 Axes>"
      ]
     },
     "metadata": {
      "needs_background": "light"
     },
     "output_type": "display_data"
    }
   ],
   "source": [
    "# Create a scatter plot of the x and y values.\n",
    "plt.scatter(x_axis_4, y_axis_4)\n",
    "# Plot the regression line with the x-values and the y coordinates based on the intercept and slope.\n",
    "plt.plot(x_axis_4,regress_values,\"r\")\n",
    "# Annotate the text for the line equation and add its coordinates.\n",
    "plt.annotate(line_eq, (10,40), fontsize=15, color=\"red\")\n",
    "plt.ylim(0,1400000)\n",
    "plt.xlabel('July through December')\n",
    "plt.ylabel('$ collected')\n",
    "plt.title('PHP MediCal $ - Fourth Week of Each Month)')\n",
    "plt.show()"
   ]
  },
  {
   "cell_type": "code",
   "execution_count": null,
   "metadata": {},
   "outputs": [],
   "source": []
  },
  {
   "cell_type": "code",
   "execution_count": null,
   "metadata": {},
   "outputs": [],
   "source": []
  }
 ],
 "metadata": {
  "kernelspec": {
   "display_name": "Python 3",
   "language": "python",
   "name": "python3"
  },
  "language_info": {
   "codemirror_mode": {
    "name": "ipython",
    "version": 3
   },
   "file_extension": ".py",
   "mimetype": "text/x-python",
   "name": "python",
   "nbconvert_exporter": "python",
   "pygments_lexer": "ipython3",
   "version": "3.7.6"
  }
 },
 "nbformat": 4,
 "nbformat_minor": 4
}
